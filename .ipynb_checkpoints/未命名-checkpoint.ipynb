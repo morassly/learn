{
 "cells": [
  {
   "cell_type": "code",
   "execution_count": null,
   "metadata": {},
   "outputs": [],
   "source": [
    "%matplotlib inline \n",
    "import random as rd\n",
    "import matplotlib.pyplot as plt\n",
    "\n",
    "times, count = 1000000, 0\n",
    "plt.figure(\"random\")\n",
    "\n",
    "for i in range(times):\n",
    "    x, y = rd.random(), rd.random()\n",
    "    if x < 0.5 or (x > 0.5 and y > 0.5 and x+y < 1.5):\n",
    "        count += 1\n",
    "        plt.scatter(x, y, color=\"red\")\n",
    "    else:\n",
    "        plt.scatter(x, y, color=\"blue\")\n",
    "print(count)\n",
    "plt.show()"
   ]
  },
  {
   "cell_type": "code",
   "execution_count": null,
   "metadata": {},
   "outputs": [],
   "source": []
  }
 ],
 "metadata": {
  "kernelspec": {
   "display_name": "Python 3",
   "language": "python",
   "name": "python3"
  },
  "language_info": {
   "codemirror_mode": {
    "name": "ipython",
    "version": 3
   },
   "file_extension": ".py",
   "mimetype": "text/x-python",
   "name": "python",
   "nbconvert_exporter": "python",
   "pygments_lexer": "ipython3",
   "version": "3.7.7"
  }
 },
 "nbformat": 4,
 "nbformat_minor": 4
}
